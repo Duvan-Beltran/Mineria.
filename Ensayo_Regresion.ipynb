{
 "cells": [
  {
   "cell_type": "markdown",
   "metadata": {},
   "source": [
    "# Regresión Lineal\n",
    "Kevin D. Castellanos Beltrán"
   ]
  },
  {
   "cell_type": "markdown",
   "metadata": {},
   "source": [
    "## Introducción\n",
    "La importancia del análisis de regresión radica en la completa teoría estadística que respalda esta técnica, lo que la hace interesante es que permite expresar con una ecuación la relación entre una variable respuesta o de interés con un conjunto de variables que se denominan predictoras, además la posibilidad de generar predicciones sobre la variable respuesta es por esto que su utilización es muy frecuente al momento de analizar datos. Hay diversas aplicaciones de la regresión, en múltiples campos como la ingeniería, ciencias físicas y químicas, economía, administración, ciencias sociales entre otras. "
   ]
  },
  {
   "cell_type": "markdown",
   "metadata": {},
   "source": [
    "![Predicciones](predicciones.jpg)"
   ]
  },
  {
   "cell_type": "markdown",
   "metadata": {},
   "source": [
    "Se debe tener en cuenta que para un muy buen manejo del análisis de regresión es necesario comprender la teoría como la parte practica en particular usando datos que describen sucesos reales, es por esto que se abordaran estos dos aspectos en este documento."
   ]
  },
  {
   "cell_type": "markdown",
   "metadata": {},
   "source": [
    "## Historia\n",
    "\n",
    "Uno de los primeros avances en esta técnica fue el *método de los mínimos cuadrados* (el cual utilizaremos más adelante para hallar la estimación de los coeficientes del modelo) publicado en 1805 por Lengendre. Luego Gauss desarrolla de manera más profunda esta teoría además incluyendo el teorema de Gauss-Márkov en 1821. Uno de los primeros estudios en donde se empleó esta técnica fue el analizar la estatura de los hijos con la estatura de los padres y resulto que la estatura de los hijos con padres altos tendía al promedio de las estaturas de manera análoga ocurriría con las estaturas de los hijos con padres de estaturas bajas (*regresión hacia la media*). Desde ese estudió nace el término de regresión asignado por Francis Galton en el siglo XIX aunque para el esta técnica sólo tenía significado biológico. Luego este trabajo fue extendido por Udny Yule y Karl Pearson a un contexto estadístico más general.  Yule y Pearson, plantean la distribución conjunta de la variable respuesta y las variables explicativas se supone que eran Gaussiana. Esta suposición fue debilitada por Ronald Fisher en sus obras de 1922 y 1925. Fisher supone que la distribución condicional de la variable respuesta es Gaussiana, pero la distribución conjunta no necesario que lo sea. A este respecto, la asunción de Fisher está más cerca de la formulación de Gauss de 1821.\n",
    "\n",
    "[Fuente](https://es.wikipedia.org/wiki/An%C3%A1lisis_de_la_regresi%C3%B3n)  [Wikipedia]"
   ]
  },
  {
   "cell_type": "markdown",
   "metadata": {},
   "source": [
    "## Planteamiento del algoritmo\n",
    "\n",
    "### Modelo de Regresión Lineal Simple\n",
    "\n",
    "El modelo más simple de resgresión lineal se escribe de la forma\n",
    "\n",
    "$$y=\\beta_{0}+\\beta_{1}x+\\varepsilon$$\n",
    "\n",
    "donde;\n",
    "\n",
    "$y$: representa la variable dependiente o respuesta.\n",
    "\n",
    "$x$: representa la variable independiente o explicativa.\n",
    "\n",
    "$\\beta_{0}$: coeficiente de regresion (ordenada al origen, constante desconocida).\n",
    "\n",
    "$\\beta_{1}$: coeficiente de regresion  (pendiente, constante desconocida).\n",
    "\n",
    "$\\varepsilon$: componente aleatorio de error. Bajo el supuesto que los errores tienen promedio $0$ y varianza\n",
    "$\\sigma^2$ desconocida. Tambien que los errores no están correlacionados.\n",
    "\n",
    "La variable $x$ es fija o controlada por el investigador, mientras que la variable respuesta $y$ se considera aleatoria, dicha variable tiene distribución con media:\n",
    "\n",
    "$$E(y|x) = \\beta_{0}+\\beta_{1}x$$\n",
    "\n",
    "y varianza\n",
    "\n",
    "$$Var(y|x) = Var(\\beta_{0}+\\beta_{1}x+\\varepsilon) = \\sigma^2$$\n",
    "    \n",
    "\n",
    "### Estimación de los parametros\n",
    "\n",
    "En este caso se usara el método de minimos cuadrados para realizar la respectiva estimación de los parametros $\\beta_{0}, \\beta_{1}$ de tal forma que que la suma de los cuadrados de las diferencias entre las observaciones $y_{i}$ y la línea recta sea mínima, \n",
    "\n",
    "$$ S(\\beta_{0},\\beta_{1}) = \\sum_{i=1}^{n}(y_{i}-\\beta_{0}-\\beta_{1}x_{i})^2 $$\n",
    "\n",
    "Los estimadores de $\\beta_{0}$  y $\\beta_{1}$, por minimos cuadrados, deben satisfacer \n",
    "\n",
    "$$\\frac{\\partial S}{\\partial \\beta_{0}}=-2\\sum_{i=1}^{n}(y_{i}-\\hat{\\beta}_{0}-\\hat{\\beta}_{1}x_{i})=0 \\\\\n",
    "\\frac{\\partial S}{\\partial \\beta_{1}}-2\\sum_{i=1}^{n}(y_{i}-\\hat{\\beta}_{0}-\\hat{\\beta}_{1}x_{i})x_{i}=0\n",
    "$$\n",
    "\n",
    "simplificando se tiene\n",
    "\n",
    "$$\\sum_{i=1}^{n}y_{i}=n\\hat{\\beta}_{0}+\\hat{\\beta}_{1}\\sum_{i=1}^{n}x_{i}\\\\\n",
    "\\sum_{i=1}^{n}y_{i}x_{i}=\\hat{\\beta}_{0}\\sum_{i=1}^{n}x_{i}+\\hat{\\beta}_{1}\\sum_{i=1}^{n}x_{i}^{2}$$\n",
    "\n",
    "se denominan *ecuaciones normales* y la solucion a este sistema es:\n",
    "\n",
    "$$\n",
    "\\hat{\\beta}_{0}=\\bar{y}-\\hat{\\beta}_{1}\\bar{x}\n",
    "$$\n",
    "\n",
    "$$\n",
    "\\hat{\\beta}_{1}=\\frac{\\sum_{i=1}^{n}x_{i}y_{i}-n\\bar{x}\\bar{y}}{\\sum_{i=1}x_{i}^{2}-\\frac{1}{n}(\\sum_{i=1}^{n}x_{i})^{2}}\n",
    "$$\n",
    "\n",
    "### Modelo de Regresión Lineal Multiple\n",
    "\n",
    "A diferencia del modelo de regresion lineal simple en este caso intervienen más de una variable regresora.\n",
    "\n",
    "El modelo se escribe de la forma\n",
    "$$y=\\beta_{0}+\\beta_{1}x_{1}+\\beta_{2}x_{2}+\\cdots+\\beta_{k}x_{k}+\\varepsilon$$\n",
    "\n",
    "donde: \n",
    "\n",
    "$y$: representa la variable respuesta\n",
    "\n",
    "$x_{j}$: representa la $j$-esima variable explicativa \n",
    "\n",
    "$\\beta_{j}$: coeficiente $i$ de regresion (constante desconocida) $i=0,1,...,k$. Representa el cambio esperado en la respuesta $y$ por el cambio unitario en $x_{j}$ cuando las demas variables explicativas permanecen constantes.\n",
    "\n",
    "$\\varepsilon$: componente aleatorio de error. Bajo los supuestos  planteados para la regresión lineal simple.\n",
    "\n",
    "### Estimación de los parametros\n",
    "\n",
    "De igual forma se utilizara el método de minimos cuadrados para realizar la respectiva estimación de los parametros $\\beta_{j}$ con $j=0,1,\\cdots,k$, para hacer un poco mas practicos los calculos expresaremos el modelo de forma matricial:  \n",
    "\n",
    "$$y=X\\beta+\\varepsilon$$\n",
    "\n",
    "es decir;\n",
    "\n",
    "\\begin{equation*}\n",
    "\\begin{bmatrix}\n",
    "y_{1} \\\\\n",
    "y_{2} \\\\\n",
    "\\vdots\\\\\n",
    "y_{n} \\\\\n",
    "\\end{bmatrix}=\n",
    "\\begin{bmatrix}\n",
    "1 & x_{11} & x_{12} & \\cdots & x_{1k}\\\\\n",
    "1 & x_{21} & x_{22} & \\cdots & x_{1k}\\\\\n",
    "\\vdots & \\vdots & \\vdots & & \\vdots \\\\\n",
    "1 & x_{n1} & x_{n2} & \\cdots & x_{nk} \n",
    "\\end{bmatrix}\n",
    "\\begin{bmatrix}\n",
    "\\beta_{0} \\\\\n",
    "\\beta_{1} \\\\\n",
    "\\vdots\\\\\n",
    "\\beta_{k} \n",
    "\\end{bmatrix}\n",
    "+\\begin{bmatrix}\n",
    "\\varepsilon_{1} \\\\\n",
    "\\varepsilon_{2} \\\\\n",
    "\\vdots\\\\\n",
    "\\varepsilon_{n}  \n",
    "\\end{bmatrix}\n",
    "\\end{equation*}\n",
    "\n",
    "Se debe hallar $\\hat{\\beta}$ de tal forma que minimice: \n",
    "\n",
    "$$ S(\\beta)= \\sum_{i=1}^{n}\\varepsilon_{i}^2 = \\varepsilon^{t}\\varepsilon = (y-X\\beta)^{t}(y-X\\beta)$$\n",
    "\n",
    "Desarrollando la transpuesta y multiplicando tenemos\n",
    "\n",
    "$$ S(\\beta)= y^{t}y-\\beta^{t}X^{t}y-y^{t}X\\beta+\\beta^{t}X^{t}X\\beta$$\n",
    "\n",
    "Como la transpuesta de un escalar es el escalar, podemos expresar la ecuacion anterior como\n",
    "\n",
    "$$ S(\\beta)= y^{t}y-2\\beta^{t}X^{t}y+\\beta^{t}X^{t}X\\beta$$\n",
    "\n",
    "Además los estimadores deben cumplir que \n",
    "\n",
    "$$ \\frac{\\partial S}{\\partial\\beta}=-2X^{t}y+2X^{t}X\\hat{\\beta}=0$$\n",
    "\n",
    "por lo que obtenemos (las *ecuaciones normales*)\n",
    "\n",
    "$$X^{t}X\\hat{\\beta}=X^{t}y$$\n",
    "\n",
    "una solucion a este sistema de ecuaciones es\n",
    "\n",
    "$$\\hat{\\beta}=(X^{t}X)^{-1}X^{t}y $$\n",
    "\n",
    "cabe resaltar que ese es el estimador siempre y cuando $(X^{t}X)^{-1}$ exista es decir los regresores son linealmente independientes\n",
    "\n",
    "Por otro lado la estimación de la varianza del modelo esta dada por\n",
    "\n",
    "$$\\hat{\\sigma}^2=\\frac{\\sum_{i=1}^{n}\\hat{\\varepsilon}_{i}^{2}}{n-k}=\\frac{\\sum_{i=1}^{n}(y_{i}-\\hat{y}_{i})^{2}}{n-k}$$\n",
    "\n",
    "Para verificar si el modelo ajustado es el correcto recurrimos al Coeficiente de determinación  $R^{2}$ que se define como\n",
    "\n",
    "$$R^{2}=\\frac{SCR}{SCT}$$\n",
    "\n",
    "donde \n",
    "\n",
    "$$SCR= \\sum_{i=1}^{n} (\\hat{y}_{i}-\\bar{y})^{2}$$\n",
    "\n",
    "$$SCE= \\sum_{i=1}^{n} (y_{i}-\\hat{y}_{i})^{2}$$\n",
    "\n",
    "$$SCT= \\sum_{i=1}^{n} (y_{i}-\\bar{y})^{2}$$\n",
    "\n",
    "Pero en ocasiones es mejor basarse en en $R^{2}_{ajustado}$ ya que el es mas robusto al incremento de variables  predictoras al modelo.\n",
    "\n",
    "$$R^{2}_{ajustado}=1-\\left(\\frac{SCRE}{SCT}\\frac{n-1}{n-k-1}\\right)$$\n"
   ]
  },
  {
   "cell_type": "markdown",
   "metadata": {},
   "source": [
    "## Ejemplo de regresión lineal\n",
    "Para ejemplificar esta tecnica recurriremos a la [base de datos](https://www.kaggle.com/shree1992/housedata) del precio de venta (*variable respuesta*) de las viviendas en los Estados Unidos para los años 2014-2015, y a manera de ejemplo solo tendremos en cuenta 40 registros para las *variables predictoras*: área construida $(ft^2)$, área del lote en $(ft^2)$, número de dormitorios."
   ]
  },
  {
   "cell_type": "code",
   "execution_count": 28,
   "metadata": {},
   "outputs": [],
   "source": [
    "# Librerias para tratamiento de datos\n",
    "#----------------------------------------------------------------------------------------------------\n",
    "import pandas as pd \n",
    "import numpy as np\n",
    "\n",
    "# Librerias para graficos\n",
    "#----------------------------------------------------------------------------------------------------\n",
    "import matplotlib.pyplot as plt\n",
    "from matplotlib import style\n",
    "import seaborn as sns\n",
    "\n",
    "# Libreria para modelo\n",
    "#----------------------------------------------------------------------------------------------------\n",
    "import statsmodels.formula.api as smf\n",
    "from statsmodels.stats.anova import anova_lm"
   ]
  },
  {
   "cell_type": "code",
   "execution_count": 29,
   "metadata": {},
   "outputs": [
    {
     "data": {
      "text/html": [
       "<div>\n",
       "<style scoped>\n",
       "    .dataframe tbody tr th:only-of-type {\n",
       "        vertical-align: middle;\n",
       "    }\n",
       "\n",
       "    .dataframe tbody tr th {\n",
       "        vertical-align: top;\n",
       "    }\n",
       "\n",
       "    .dataframe thead th {\n",
       "        text-align: right;\n",
       "    }\n",
       "</style>\n",
       "<table border=\"1\" class=\"dataframe\">\n",
       "  <thead>\n",
       "    <tr style=\"text-align: right;\">\n",
       "      <th></th>\n",
       "      <th>Precio</th>\n",
       "      <th>Dormitorios</th>\n",
       "      <th>Construcft2</th>\n",
       "      <th>Loteft2</th>\n",
       "    </tr>\n",
       "  </thead>\n",
       "  <tbody>\n",
       "    <tr>\n",
       "      <td>0</td>\n",
       "      <td>221900</td>\n",
       "      <td>3</td>\n",
       "      <td>1180</td>\n",
       "      <td>5650</td>\n",
       "    </tr>\n",
       "    <tr>\n",
       "      <td>1</td>\n",
       "      <td>538000</td>\n",
       "      <td>3</td>\n",
       "      <td>2570</td>\n",
       "      <td>7242</td>\n",
       "    </tr>\n",
       "    <tr>\n",
       "      <td>2</td>\n",
       "      <td>180000</td>\n",
       "      <td>2</td>\n",
       "      <td>770</td>\n",
       "      <td>10000</td>\n",
       "    </tr>\n",
       "    <tr>\n",
       "      <td>3</td>\n",
       "      <td>604000</td>\n",
       "      <td>4</td>\n",
       "      <td>1960</td>\n",
       "      <td>5000</td>\n",
       "    </tr>\n",
       "    <tr>\n",
       "      <td>4</td>\n",
       "      <td>510000</td>\n",
       "      <td>3</td>\n",
       "      <td>1680</td>\n",
       "      <td>8080</td>\n",
       "    </tr>\n",
       "  </tbody>\n",
       "</table>\n",
       "</div>"
      ],
      "text/plain": [
       "   Precio  Dormitorios  Construcft2  Loteft2\n",
       "0  221900            3         1180     5650\n",
       "1  538000            3         2570     7242\n",
       "2  180000            2          770    10000\n",
       "3  604000            4         1960     5000\n",
       "4  510000            3         1680     8080"
      ]
     },
     "execution_count": 29,
     "metadata": {},
     "output_type": "execute_result"
    }
   ],
   "source": [
    "# Importar datos\n",
    "#----------------------------------------------------------------------------------------------------\n",
    "datos=pd.read_excel('pricehouse.xlsx')\n",
    "datos.head()"
   ]
  },
  {
   "cell_type": "code",
   "execution_count": 30,
   "metadata": {},
   "outputs": [
    {
     "data": {
      "text/html": [
       "<div>\n",
       "<style scoped>\n",
       "    .dataframe tbody tr th:only-of-type {\n",
       "        vertical-align: middle;\n",
       "    }\n",
       "\n",
       "    .dataframe tbody tr th {\n",
       "        vertical-align: top;\n",
       "    }\n",
       "\n",
       "    .dataframe thead th {\n",
       "        text-align: right;\n",
       "    }\n",
       "</style>\n",
       "<table border=\"1\" class=\"dataframe\">\n",
       "  <thead>\n",
       "    <tr style=\"text-align: right;\">\n",
       "      <th></th>\n",
       "      <th>Precio</th>\n",
       "      <th>Dormitorios</th>\n",
       "      <th>Construcft2</th>\n",
       "      <th>Loteft2</th>\n",
       "    </tr>\n",
       "  </thead>\n",
       "  <tbody>\n",
       "    <tr>\n",
       "      <td>count</td>\n",
       "      <td>40.000000</td>\n",
       "      <td>40.000000</td>\n",
       "      <td>40.000000</td>\n",
       "      <td>40.000000</td>\n",
       "    </tr>\n",
       "    <tr>\n",
       "      <td>mean</td>\n",
       "      <td>456436.250000</td>\n",
       "      <td>3.300000</td>\n",
       "      <td>1895.625000</td>\n",
       "      <td>7970.350000</td>\n",
       "    </tr>\n",
       "    <tr>\n",
       "      <td>std</td>\n",
       "      <td>192525.709901</td>\n",
       "      <td>0.757865</td>\n",
       "      <td>718.705378</td>\n",
       "      <td>6136.351633</td>\n",
       "    </tr>\n",
       "    <tr>\n",
       "      <td>min</td>\n",
       "      <td>180000.000000</td>\n",
       "      <td>2.000000</td>\n",
       "      <td>770.000000</td>\n",
       "      <td>1265.000000</td>\n",
       "    </tr>\n",
       "    <tr>\n",
       "      <td>25%</td>\n",
       "      <td>283750.000000</td>\n",
       "      <td>3.000000</td>\n",
       "      <td>1340.000000</td>\n",
       "      <td>4995.000000</td>\n",
       "    </tr>\n",
       "    <tr>\n",
       "      <td>50%</td>\n",
       "      <td>453000.000000</td>\n",
       "      <td>3.000000</td>\n",
       "      <td>1747.500000</td>\n",
       "      <td>6530.000000</td>\n",
       "    </tr>\n",
       "    <tr>\n",
       "      <td>75%</td>\n",
       "      <td>610000.000000</td>\n",
       "      <td>4.000000</td>\n",
       "      <td>2337.500000</td>\n",
       "      <td>9652.250000</td>\n",
       "    </tr>\n",
       "    <tr>\n",
       "      <td>max</td>\n",
       "      <td>937000.000000</td>\n",
       "      <td>5.000000</td>\n",
       "      <td>4220.000000</td>\n",
       "      <td>34848.000000</td>\n",
       "    </tr>\n",
       "  </tbody>\n",
       "</table>\n",
       "</div>"
      ],
      "text/plain": [
       "              Precio  Dormitorios  Construcft2       Loteft2\n",
       "count      40.000000    40.000000    40.000000     40.000000\n",
       "mean   456436.250000     3.300000  1895.625000   7970.350000\n",
       "std    192525.709901     0.757865   718.705378   6136.351633\n",
       "min    180000.000000     2.000000   770.000000   1265.000000\n",
       "25%    283750.000000     3.000000  1340.000000   4995.000000\n",
       "50%    453000.000000     3.000000  1747.500000   6530.000000\n",
       "75%    610000.000000     4.000000  2337.500000   9652.250000\n",
       "max    937000.000000     5.000000  4220.000000  34848.000000"
      ]
     },
     "execution_count": 30,
     "metadata": {},
     "output_type": "execute_result"
    }
   ],
   "source": [
    "# Medidas resumen de las variables\n",
    "#----------------------------------------------------------------------------------------------------\n",
    "datos.describe()"
   ]
  },
  {
   "cell_type": "code",
   "execution_count": 31,
   "metadata": {},
   "outputs": [
    {
     "data": {
      "text/plain": [
       "<seaborn.axisgrid.PairGrid at 0x1e99faa33c8>"
      ]
     },
     "execution_count": 31,
     "metadata": {},
     "output_type": "execute_result"
    },
    {
     "data": {
      "image/png": "[encoded data removed]",
      "text/plain": [
       "<Figure size 720x720 with 20 Axes>"
      ]
     },
     "metadata": {
      "needs_background": "light"
     },
     "output_type": "display_data"
    }
   ],
   "source": [
    "# Histograma, diagrama de barras y diagramas de dispersión\n",
    "#----------------------------------------------------------------------------------------------------\n",
    "sns.pairplot(datos)"
   ]
  },
  {
   "cell_type": "markdown",
   "metadata": {},
   "source": [
    "Como primera medida sera importante estudiar la relación que existe entre variables, asi se podra detectar colinealidad entre predictores."
   ]
  },
  {
   "cell_type": "code",
   "execution_count": 32,
   "metadata": {},
   "outputs": [
    {
     "data": {
      "text/plain": [
       "<matplotlib.axes._subplots.AxesSubplot at 0x1e9a0284b88>"
      ]
     },
     "execution_count": 32,
     "metadata": {},
     "output_type": "execute_result"
    },
    {
     "data": {
      "image/png": "[encoded data removed]",
      "text/plain": [
       "<Figure size 432x288 with 2 Axes>"
      ]
     },
     "metadata": {
      "needs_background": "light"
     },
     "output_type": "display_data"
    }
   ],
   "source": [
    "# Matriz de correlaciones\n",
    "#-----------------------------------------------------------------------------------------------------\n",
    "correlacion = datos.corr()\n",
    "sns.heatmap(correlacion, annot = True)"
   ]
  },
  {
   "cell_type": "markdown",
   "metadata": {},
   "source": [
    "Aunque existen correlaciones altas entre variables como se evidencia en la figura anterior haremos uso de todas las variables para ajustar un modelo lineal múltiple con el objetivo de predecir el precio de las viviendas."
   ]
  },
  {
   "cell_type": "code",
   "execution_count": 33,
   "metadata": {},
   "outputs": [
    {
     "name": "stdout",
     "output_type": "stream",
     "text": [
      "                            OLS Regression Results                            \n",
      "==============================================================================\n",
      "Dep. Variable:                 Precio   R-squared:                       0.461\n",
      "Model:                            OLS   Adj. R-squared:                  0.416\n",
      "Method:                 Least Squares   F-statistic:                     10.26\n",
      "Date:                Sat, 13 Mar 2021   Prob (F-statistic):           5.07e-05\n",
      "Time:                        19:42:42   Log-Likelihood:                -530.62\n",
      "No. Observations:                  40   AIC:                             1069.\n",
      "Df Residuals:                      36   BIC:                             1076.\n",
      "Df Model:                           3                                         \n",
      "Covariance Type:            nonrobust                                         \n",
      "===============================================================================\n",
      "                  coef    std err          t      P>|t|      [0.025      0.975]\n",
      "-------------------------------------------------------------------------------\n",
      "Intercept    9.471e+04   1.09e+05      0.872      0.389   -1.26e+05    3.15e+05\n",
      "Dormitorios  1.957e+04    3.5e+04      0.559      0.580   -5.14e+04    9.06e+04\n",
      "Construcft2   172.7866     37.117      4.655      0.000      97.510     248.063\n",
      "Loteft2        -3.8132      3.873     -0.985      0.331     -11.668       4.041\n",
      "==============================================================================\n",
      "Omnibus:                        1.321   Durbin-Watson:                   1.595\n",
      "Prob(Omnibus):                  0.517   Jarque-Bera (JB):                0.905\n",
      "Skew:                           0.368   Prob(JB):                        0.636\n",
      "Kurtosis:                       2.989   Cond. No.                     4.88e+04\n",
      "==============================================================================\n",
      "\n",
      "Warnings:\n",
      "[1] Standard Errors assume that the covariance matrix of the errors is correctly specified.\n",
      "[2] The condition number is large, 4.88e+04. This might indicate that there are\n",
      "strong multicollinearity or other numerical problems.\n"
     ]
    }
   ],
   "source": [
    "# Creación del modelo\n",
    "#-----------------------------------------------------------------------------------------------------\n",
    "modelo = smf.ols(formula = 'Precio ~ Dormitorios+Construcft2+Loteft2', data = datos)\n",
    "modelo = modelo.fit()\n",
    "print(modelo.summary())"
   ]
  },
  {
   "cell_type": "markdown",
   "metadata": {},
   "source": [
    "El modelo con todas las variables introducidas como predictores tiene un  $R^2_{ajustado}$  de  0.42, es decir que el modelo es capaz de explicar  42% de la variabilidad observada en las ventas de las viviendas. El p-valor del modelo es significativo (0.000164) por lo que s al menos uno de los coeficientes parciales de regresión es distinto de 0.\n",
    "\n",
    "Pero si analizamos los p-valores obtenidos para los coeficiente de regresión de número de dormitorios (0.580), y el del area del lote (0.331) por lo que concluimos que estas variables no contribuye de forma significativa al modelo.\n",
    "Se propone un nuevo el modelo, pero solo teniendo en cuenta el predictor area construida.\n"
   ]
  },
  {
   "cell_type": "code",
   "execution_count": 34,
   "metadata": {},
   "outputs": [
    {
     "name": "stdout",
     "output_type": "stream",
     "text": [
      "                            OLS Regression Results                            \n",
      "==============================================================================\n",
      "Dep. Variable:                 Precio   R-squared:                       0.442\n",
      "Model:                            OLS   Adj. R-squared:                  0.427\n",
      "Method:                 Least Squares   F-statistic:                     30.09\n",
      "Date:                Sat, 13 Mar 2021   Prob (F-statistic):           2.89e-06\n",
      "Time:                        19:42:42   Log-Likelihood:                -531.30\n",
      "No. Observations:                  40   AIC:                             1067.\n",
      "Df Residuals:                      38   BIC:                             1070.\n",
      "Df Model:                           1                                         \n",
      "Covariance Type:            nonrobust                                         \n",
      "===============================================================================\n",
      "                  coef    std err          t      P>|t|      [0.025      0.975]\n",
      "-------------------------------------------------------------------------------\n",
      "Intercept    1.189e+05   6.57e+04      1.809      0.078   -1.42e+04    2.52e+05\n",
      "Construcft2   178.0838     32.463      5.486      0.000     112.367     243.801\n",
      "==============================================================================\n",
      "Omnibus:                        1.885   Durbin-Watson:                   1.613\n",
      "Prob(Omnibus):                  0.390   Jarque-Bera (JB):                1.537\n",
      "Skew:                           0.475   Prob(JB):                        0.464\n",
      "Kurtosis:                       2.864   Cond. No.                     5.77e+03\n",
      "==============================================================================\n",
      "\n",
      "Warnings:\n",
      "[1] Standard Errors assume that the covariance matrix of the errors is correctly specified.\n",
      "[2] The condition number is large, 5.77e+03. This might indicate that there are\n",
      "strong multicollinearity or other numerical problems.\n"
     ]
    }
   ],
   "source": [
    "# Creación del modelo 2\n",
    "#-----------------------------------------------------------------------------------------------------\n",
    "modelo1 = smf.ols(formula = 'Precio ~ Construcft2', data = datos)\n",
    "modelo1 = modelo1.fit()\n",
    "print(modelo1.summary())"
   ]
  },
  {
   "cell_type": "markdown",
   "metadata": {},
   "source": [
    "El nuevo modelo propuesto continua teniendo un  $R^2_{ajustado}$  de  0.42, es decir que el modelo es capaz de explicar  42% de la variabilidad observada en las ventas de las viviendas. A continuacion calcularemos los intervalos de confianza para las estimaciones de los coeficientes teniendo en cuenta un nivel se significancia del 5%. "
   ]
  },
  {
   "cell_type": "code",
   "execution_count": 35,
   "metadata": {},
   "outputs": [
    {
     "data": {
      "text/html": [
       "<div>\n",
       "<style scoped>\n",
       "    .dataframe tbody tr th:only-of-type {\n",
       "        vertical-align: middle;\n",
       "    }\n",
       "\n",
       "    .dataframe tbody tr th {\n",
       "        vertical-align: top;\n",
       "    }\n",
       "\n",
       "    .dataframe thead th {\n",
       "        text-align: right;\n",
       "    }\n",
       "</style>\n",
       "<table border=\"1\" class=\"dataframe\">\n",
       "  <thead>\n",
       "    <tr style=\"text-align: right;\">\n",
       "      <th></th>\n",
       "      <th>0</th>\n",
       "      <th>1</th>\n",
       "    </tr>\n",
       "  </thead>\n",
       "  <tbody>\n",
       "    <tr>\n",
       "      <td>Intercept</td>\n",
       "      <td>-14162.215552</td>\n",
       "      <td>251874.522464</td>\n",
       "    </tr>\n",
       "    <tr>\n",
       "      <td>Construcft2</td>\n",
       "      <td>112.366805</td>\n",
       "      <td>243.800788</td>\n",
       "    </tr>\n",
       "  </tbody>\n",
       "</table>\n",
       "</div>"
      ],
      "text/plain": [
       "                        0              1\n",
       "Intercept   -14162.215552  251874.522464\n",
       "Construcft2    112.366805     243.800788"
      ]
     },
     "execution_count": 35,
     "metadata": {},
     "output_type": "execute_result"
    }
   ],
   "source": [
    "# Intervalos de confianza para coeficientes\n",
    "#-----------------------------------------------------------------------------------------------------\n",
    "modelo1.conf_int(alpha=0.05)"
   ]
  },
  {
   "cell_type": "markdown",
   "metadata": {},
   "source": [
    "Finalmente podemos concluir que el modelo más apropiado para el precio de las viviendas es:\n",
    "\n",
    "$$\\hat{y}_{i}=118900+178.08*AreaConstruidaFt^2$$"
   ]
  },
  {
   "cell_type": "markdown",
   "metadata": {},
   "source": [
    "Luego del planteamiento del modelo sera importante realizar la verificación de supuestos para este caso se recomienda analizar\n",
    "\n",
    "* Normalidad (Shapiro-Wilk, Jarque-Bera)\n",
    "* Homocedasticidad (Bartlett, Levene) \n",
    "* Multicolinealidad (factor de inflación de la varianza *VIF*)"
   ]
  },
  {
   "cell_type": "markdown",
   "metadata": {},
   "source": [
    "## Conclusión\n",
    "\n",
    "En este documento se ha visto cómo implementar el analisis de regresión lineal en Python cabe resaltar que se no abordo de manera profunda, el objetivo fue mostrar de forma brebe los aspectos relevantes tanto teoricos como practicos además de reseñar esta tecnica como una de las más utilizadas al momento del analisis de datos. Se recomienda profundizar en esta tecnica por su desarrollo amplio y ayuda para toma de correctas desiciones. Toma tambien gran importancia cuando vemos que es ampliamente utilizada ciencia de datos."
   ]
  },
  {
   "cell_type": "markdown",
   "metadata": {},
   "source": [
    "## Bibliografia\n",
    "\n",
    "- Regresión lineal con Python, Joaquín Amat Rodrigo [Cuaderno](https://www.cienciadedatos.net/documentos/py10-regresion-lineal-python.html)\n",
    "- Introducción análisis de regresión lineal, DOUGLAS C. MONTGOMERY [Libro](https://www.amazon.com/-/es/MONTGOMERY-PECK-VINING/dp/B003B0PCG8)\n",
    "- Análisis de la regresión [Documento](https://es.wikipedia.org/wiki/An%C3%A1lisis_de_la_regresi%C3%B3n)\n",
    "- Sintaxis Mardown [Documento](https://markdown.es/sintaxis-markdown/)"
   ]
  }
 ],
 "metadata": {
  "kernelspec": {
   "display_name": "Python 3",
   "language": "python",
   "name": "python3"
  },
  "language_info": {
   "codemirror_mode": {
    "name": "ipython",
    "version": 3
   },
   "file_extension": ".py",
   "mimetype": "text/x-python",
   "name": "python",
   "nbconvert_exporter": "python",
   "pygments_lexer": "ipython3",
   "version": "3.7.4"
  }
 },
 "nbformat": 4,
 "nbformat_minor": 4
}
